{
 "cells": [
  {
   "cell_type": "markdown",
   "metadata": {},
   "source": [
    "## İş Problemi\n",
    "Bir oyun şirketi müşterilerinin bazı özelliklerini kullanarak seviye tabanlı (level based) yeni müşteri tanımları (persona) oluşturmak ve bu yeni müşteri tanımlarına göre segmentler oluşturup bu segmentlere göre yeni gelebilecek müşterilerin şirkete ortalama ne kadar kazandırabileceğini tahmin etmek istemektedir.\n",
    "\n",
    "Örneğin:\n",
    "\n",
    "Türkiye’den IOS kullanıcısı olan 25 yaşındaki bir erkek kullanıcının ortalama ne kadar kazandırabileceği belirlenmek isteniyor."
   ]
  },
  {
   "cell_type": "markdown",
   "metadata": {},
   "source": [
    "## Veri Seti Hikayesi\n",
    "Persona.csv veri seti uluslararası bir oyun şirketinin sattığı ürünlerin fiyatlarını ve bu ürünleri satın alan kullanıcıların bazı demografik bilgilerin barındırmaktadır. Veri seti her satış işleminde oluşan kayıtlardan meydana gelmektedir. Bunun anlamı tablo tekilleştirilmemiştir. Diğer bir ifade ile belirli demografik özelliklere sahip bir kullanıcı birden fazla alışveriş yapmış olabilir."
   ]
  },
  {
   "cell_type": "markdown",
   "metadata": {},
   "source": [
    "## Görev 1: Aşağıdaki soruları yanıtlayın\n",
    "Soru 1: persona.csv dosyasını okutunuz ve veri seti ile ilgili genel bilgileri gösteriniz."
   ]
  },
  {
   "cell_type": "code",
   "execution_count": 136,
   "metadata": {},
   "outputs": [
    {
     "name": "stdout",
     "output_type": "stream",
     "text": [
      "   PRICE   SOURCE   SEX COUNTRY  AGE\n",
      "0     39  android  male     bra   17\n",
      "1     39  android  male     bra   17\n",
      "2     49  android  male     bra   17\n",
      "3     29  android  male     tur   17\n",
      "4     49  android  male     tur   17\n",
      "#################################### \n",
      "\n",
      "Shape: (5000, 5)\n",
      "#################################### \n",
      "\n",
      "<class 'pandas.core.frame.DataFrame'>\n",
      "Int64Index: 5000 entries, 0 to 4999\n",
      "Data columns (total 5 columns):\n",
      " #   Column   Non-Null Count  Dtype \n",
      "---  ------   --------------  ----- \n",
      " 0   PRICE    5000 non-null   int64 \n",
      " 1   SOURCE   5000 non-null   object\n",
      " 2   SEX      5000 non-null   object\n",
      " 3   COUNTRY  5000 non-null   object\n",
      " 4   AGE      5000 non-null   int64 \n",
      "dtypes: int64(2), object(3)\n",
      "memory usage: 234.4+ KB\n",
      "None\n"
     ]
    }
   ],
   "source": [
    "import pandas as pd\n",
    "df = pd.read_csv('/Users/mericgenc/Desktop/Python - Data Science/Miuul Data Scientist Path/01 - Python Programming for Data Science/03-data_analysis_with_python/case_study/persona.csv')\n",
    "print(df.head())\n",
    "print('####################################', '\\n')\n",
    "print('Shape:', df.shape)\n",
    "print('####################################', '\\n')\n",
    "print(df.info())"
   ]
  },
  {
   "cell_type": "markdown",
   "metadata": {},
   "source": [
    "Soru 2: Kaç unique SOURCE vardır? Frekansları nedir?"
   ]
  },
  {
   "cell_type": "code",
   "execution_count": 137,
   "metadata": {},
   "outputs": [
    {
     "data": {
      "text/plain": [
       "PRICE       6\n",
       "SOURCE      2\n",
       "SEX         2\n",
       "COUNTRY     6\n",
       "AGE        46\n",
       "dtype: int64"
      ]
     },
     "execution_count": 137,
     "metadata": {},
     "output_type": "execute_result"
    }
   ],
   "source": [
    "df.nunique()"
   ]
  },
  {
   "cell_type": "markdown",
   "metadata": {},
   "source": [
    "Soru 3: Kaç unique PRICE vardır?"
   ]
  },
  {
   "cell_type": "code",
   "execution_count": 138,
   "metadata": {},
   "outputs": [
    {
     "name": "stdout",
     "output_type": "stream",
     "text": [
      "[39 49 29 19 59  9]\n",
      "6 adet unique PRICE vardır\n"
     ]
    }
   ],
   "source": [
    "print(df['PRICE'].unique())\n",
    "print(f\"{len(df['PRICE'].unique())} adet unique PRICE vardır\")"
   ]
  },
  {
   "cell_type": "markdown",
   "metadata": {},
   "source": [
    "Soru 4: Hangi PRICE'dan kaçar tane satış gerçekleşmiş?"
   ]
  },
  {
   "cell_type": "code",
   "execution_count": 139,
   "metadata": {},
   "outputs": [
    {
     "data": {
      "text/plain": [
       "29    1305\n",
       "39    1260\n",
       "49    1031\n",
       "19     992\n",
       "59     212\n",
       "9      200\n",
       "Name: PRICE, dtype: int64"
      ]
     },
     "execution_count": 139,
     "metadata": {},
     "output_type": "execute_result"
    }
   ],
   "source": [
    "df['PRICE'].value_counts()"
   ]
  },
  {
   "cell_type": "markdown",
   "metadata": {},
   "source": [
    "Soru 5: Hangi ülkeden kaçar tane satış olmuş?"
   ]
  },
  {
   "cell_type": "code",
   "execution_count": 140,
   "metadata": {},
   "outputs": [
    {
     "data": {
      "text/plain": [
       "usa    2065\n",
       "bra    1496\n",
       "deu     455\n",
       "tur     451\n",
       "fra     303\n",
       "can     230\n",
       "Name: COUNTRY, dtype: int64"
      ]
     },
     "execution_count": 140,
     "metadata": {},
     "output_type": "execute_result"
    }
   ],
   "source": [
    "df['COUNTRY'].value_counts()"
   ]
  },
  {
   "cell_type": "markdown",
   "metadata": {},
   "source": [
    "Soru 6: Ülkelere göre satışlardan toplam ne kadar kazanılmış?"
   ]
  },
  {
   "cell_type": "code",
   "execution_count": 141,
   "metadata": {},
   "outputs": [
    {
     "data": {
      "text/html": [
       "<div>\n",
       "<style scoped>\n",
       "    .dataframe tbody tr th:only-of-type {\n",
       "        vertical-align: middle;\n",
       "    }\n",
       "\n",
       "    .dataframe tbody tr th {\n",
       "        vertical-align: top;\n",
       "    }\n",
       "\n",
       "    .dataframe thead th {\n",
       "        text-align: right;\n",
       "    }\n",
       "</style>\n",
       "<table border=\"1\" class=\"dataframe\">\n",
       "  <thead>\n",
       "    <tr style=\"text-align: right;\">\n",
       "      <th></th>\n",
       "      <th>PRICE</th>\n",
       "    </tr>\n",
       "    <tr>\n",
       "      <th>COUNTRY</th>\n",
       "      <th></th>\n",
       "    </tr>\n",
       "  </thead>\n",
       "  <tbody>\n",
       "    <tr>\n",
       "      <th>usa</th>\n",
       "      <td>70225</td>\n",
       "    </tr>\n",
       "    <tr>\n",
       "      <th>bra</th>\n",
       "      <td>51354</td>\n",
       "    </tr>\n",
       "    <tr>\n",
       "      <th>tur</th>\n",
       "      <td>15689</td>\n",
       "    </tr>\n",
       "    <tr>\n",
       "      <th>deu</th>\n",
       "      <td>15485</td>\n",
       "    </tr>\n",
       "    <tr>\n",
       "      <th>fra</th>\n",
       "      <td>10177</td>\n",
       "    </tr>\n",
       "    <tr>\n",
       "      <th>can</th>\n",
       "      <td>7730</td>\n",
       "    </tr>\n",
       "  </tbody>\n",
       "</table>\n",
       "</div>"
      ],
      "text/plain": [
       "         PRICE\n",
       "COUNTRY       \n",
       "usa      70225\n",
       "bra      51354\n",
       "tur      15689\n",
       "deu      15485\n",
       "fra      10177\n",
       "can       7730"
      ]
     },
     "execution_count": 141,
     "metadata": {},
     "output_type": "execute_result"
    }
   ],
   "source": [
    "df.groupby('COUNTRY').agg({'PRICE':'sum'}).sort_values('PRICE',ascending=False)"
   ]
  },
  {
   "cell_type": "markdown",
   "metadata": {},
   "source": [
    "Soru 7: SOURCE türlerine göre satış sayıları nedir?"
   ]
  },
  {
   "cell_type": "code",
   "execution_count": 142,
   "metadata": {},
   "outputs": [
    {
     "data": {
      "text/plain": [
       "android    2974\n",
       "ios        2026\n",
       "Name: SOURCE, dtype: int64"
      ]
     },
     "execution_count": 142,
     "metadata": {},
     "output_type": "execute_result"
    }
   ],
   "source": [
    "df['SOURCE'].value_counts()"
   ]
  },
  {
   "cell_type": "markdown",
   "metadata": {},
   "source": [
    "Soru 8: Ülkelere göre PRICE ortalamaları nedir?"
   ]
  },
  {
   "cell_type": "code",
   "execution_count": 143,
   "metadata": {},
   "outputs": [
    {
     "data": {
      "text/html": [
       "<div>\n",
       "<style scoped>\n",
       "    .dataframe tbody tr th:only-of-type {\n",
       "        vertical-align: middle;\n",
       "    }\n",
       "\n",
       "    .dataframe tbody tr th {\n",
       "        vertical-align: top;\n",
       "    }\n",
       "\n",
       "    .dataframe thead th {\n",
       "        text-align: right;\n",
       "    }\n",
       "</style>\n",
       "<table border=\"1\" class=\"dataframe\">\n",
       "  <thead>\n",
       "    <tr style=\"text-align: right;\">\n",
       "      <th></th>\n",
       "      <th>PRICE</th>\n",
       "    </tr>\n",
       "    <tr>\n",
       "      <th>COUNTRY</th>\n",
       "      <th></th>\n",
       "    </tr>\n",
       "  </thead>\n",
       "  <tbody>\n",
       "    <tr>\n",
       "      <th>tur</th>\n",
       "      <td>34.787140</td>\n",
       "    </tr>\n",
       "    <tr>\n",
       "      <th>bra</th>\n",
       "      <td>34.327540</td>\n",
       "    </tr>\n",
       "    <tr>\n",
       "      <th>deu</th>\n",
       "      <td>34.032967</td>\n",
       "    </tr>\n",
       "    <tr>\n",
       "      <th>usa</th>\n",
       "      <td>34.007264</td>\n",
       "    </tr>\n",
       "    <tr>\n",
       "      <th>can</th>\n",
       "      <td>33.608696</td>\n",
       "    </tr>\n",
       "    <tr>\n",
       "      <th>fra</th>\n",
       "      <td>33.587459</td>\n",
       "    </tr>\n",
       "  </tbody>\n",
       "</table>\n",
       "</div>"
      ],
      "text/plain": [
       "             PRICE\n",
       "COUNTRY           \n",
       "tur      34.787140\n",
       "bra      34.327540\n",
       "deu      34.032967\n",
       "usa      34.007264\n",
       "can      33.608696\n",
       "fra      33.587459"
      ]
     },
     "execution_count": 143,
     "metadata": {},
     "output_type": "execute_result"
    }
   ],
   "source": [
    "df.groupby('COUNTRY').agg({'PRICE':'mean'}).sort_values('PRICE',ascending=False)"
   ]
  },
  {
   "cell_type": "markdown",
   "metadata": {},
   "source": [
    "Soru 9: SOURCE'lara göre PRICE ortalamaları nedir?"
   ]
  },
  {
   "cell_type": "code",
   "execution_count": 144,
   "metadata": {},
   "outputs": [
    {
     "data": {
      "text/html": [
       "<div>\n",
       "<style scoped>\n",
       "    .dataframe tbody tr th:only-of-type {\n",
       "        vertical-align: middle;\n",
       "    }\n",
       "\n",
       "    .dataframe tbody tr th {\n",
       "        vertical-align: top;\n",
       "    }\n",
       "\n",
       "    .dataframe thead th {\n",
       "        text-align: right;\n",
       "    }\n",
       "</style>\n",
       "<table border=\"1\" class=\"dataframe\">\n",
       "  <thead>\n",
       "    <tr style=\"text-align: right;\">\n",
       "      <th></th>\n",
       "      <th>PRICE</th>\n",
       "    </tr>\n",
       "    <tr>\n",
       "      <th>SOURCE</th>\n",
       "      <th></th>\n",
       "    </tr>\n",
       "  </thead>\n",
       "  <tbody>\n",
       "    <tr>\n",
       "      <th>android</th>\n",
       "      <td>34.174849</td>\n",
       "    </tr>\n",
       "    <tr>\n",
       "      <th>ios</th>\n",
       "      <td>34.069102</td>\n",
       "    </tr>\n",
       "  </tbody>\n",
       "</table>\n",
       "</div>"
      ],
      "text/plain": [
       "             PRICE\n",
       "SOURCE            \n",
       "android  34.174849\n",
       "ios      34.069102"
      ]
     },
     "execution_count": 144,
     "metadata": {},
     "output_type": "execute_result"
    }
   ],
   "source": [
    "df.groupby('SOURCE').agg({'PRICE':'mean'}).sort_values('PRICE',ascending=False)"
   ]
  },
  {
   "cell_type": "markdown",
   "metadata": {},
   "source": [
    "Soru 10: COUNTRY-SOURCE kırılımında PRICE ortalamaları nedir?"
   ]
  },
  {
   "cell_type": "code",
   "execution_count": 145,
   "metadata": {
    "tags": []
   },
   "outputs": [
    {
     "data": {
      "text/html": [
       "<div>\n",
       "<style scoped>\n",
       "    .dataframe tbody tr th:only-of-type {\n",
       "        vertical-align: middle;\n",
       "    }\n",
       "\n",
       "    .dataframe tbody tr th {\n",
       "        vertical-align: top;\n",
       "    }\n",
       "\n",
       "    .dataframe thead th {\n",
       "        text-align: right;\n",
       "    }\n",
       "</style>\n",
       "<table border=\"1\" class=\"dataframe\">\n",
       "  <thead>\n",
       "    <tr style=\"text-align: right;\">\n",
       "      <th></th>\n",
       "      <th></th>\n",
       "      <th>PRICE</th>\n",
       "    </tr>\n",
       "    <tr>\n",
       "      <th>COUNTRY</th>\n",
       "      <th>SOURCE</th>\n",
       "      <th></th>\n",
       "    </tr>\n",
       "  </thead>\n",
       "  <tbody>\n",
       "    <tr>\n",
       "      <th rowspan=\"2\" valign=\"top\">bra</th>\n",
       "      <th>android</th>\n",
       "      <td>34.387029</td>\n",
       "    </tr>\n",
       "    <tr>\n",
       "      <th>ios</th>\n",
       "      <td>34.222222</td>\n",
       "    </tr>\n",
       "    <tr>\n",
       "      <th rowspan=\"2\" valign=\"top\">can</th>\n",
       "      <th>android</th>\n",
       "      <td>33.330709</td>\n",
       "    </tr>\n",
       "    <tr>\n",
       "      <th>ios</th>\n",
       "      <td>33.951456</td>\n",
       "    </tr>\n",
       "    <tr>\n",
       "      <th>deu</th>\n",
       "      <th>android</th>\n",
       "      <td>33.869888</td>\n",
       "    </tr>\n",
       "    <tr>\n",
       "      <th>...</th>\n",
       "      <th>...</th>\n",
       "      <td>...</td>\n",
       "    </tr>\n",
       "    <tr>\n",
       "      <th>fra</th>\n",
       "      <th>ios</th>\n",
       "      <td>32.776224</td>\n",
       "    </tr>\n",
       "    <tr>\n",
       "      <th rowspan=\"2\" valign=\"top\">tur</th>\n",
       "      <th>android</th>\n",
       "      <td>36.229437</td>\n",
       "    </tr>\n",
       "    <tr>\n",
       "      <th>ios</th>\n",
       "      <td>33.272727</td>\n",
       "    </tr>\n",
       "    <tr>\n",
       "      <th rowspan=\"2\" valign=\"top\">usa</th>\n",
       "      <th>android</th>\n",
       "      <td>33.760357</td>\n",
       "    </tr>\n",
       "    <tr>\n",
       "      <th>ios</th>\n",
       "      <td>34.371703</td>\n",
       "    </tr>\n",
       "  </tbody>\n",
       "</table>\n",
       "<p>12 rows × 1 columns</p>\n",
       "</div>"
      ],
      "text/plain": [
       "                     PRICE\n",
       "COUNTRY SOURCE            \n",
       "bra     android  34.387029\n",
       "        ios      34.222222\n",
       "can     android  33.330709\n",
       "        ios      33.951456\n",
       "deu     android  33.869888\n",
       "...                    ...\n",
       "fra     ios      32.776224\n",
       "tur     android  36.229437\n",
       "        ios      33.272727\n",
       "usa     android  33.760357\n",
       "        ios      34.371703\n",
       "\n",
       "[12 rows x 1 columns]"
      ]
     },
     "execution_count": 145,
     "metadata": {},
     "output_type": "execute_result"
    }
   ],
   "source": [
    "df.groupby(['COUNTRY','SOURCE']).agg({'PRICE':'mean'})"
   ]
  },
  {
   "cell_type": "markdown",
   "metadata": {},
   "source": [
    "## Görev 2: COUNTRY, SOURCE, SEX, AGE kırılımında ortalama kazançlar nedir?"
   ]
  },
  {
   "cell_type": "code",
   "execution_count": 146,
   "metadata": {},
   "outputs": [
    {
     "data": {
      "text/html": [
       "<div>\n",
       "<style scoped>\n",
       "    .dataframe tbody tr th:only-of-type {\n",
       "        vertical-align: middle;\n",
       "    }\n",
       "\n",
       "    .dataframe tbody tr th {\n",
       "        vertical-align: top;\n",
       "    }\n",
       "\n",
       "    .dataframe thead th {\n",
       "        text-align: right;\n",
       "    }\n",
       "</style>\n",
       "<table border=\"1\" class=\"dataframe\">\n",
       "  <thead>\n",
       "    <tr style=\"text-align: right;\">\n",
       "      <th></th>\n",
       "      <th></th>\n",
       "      <th></th>\n",
       "      <th></th>\n",
       "      <th>PRICE</th>\n",
       "    </tr>\n",
       "    <tr>\n",
       "      <th>COUNTRY</th>\n",
       "      <th>SOURCE</th>\n",
       "      <th>SEX</th>\n",
       "      <th>AGE</th>\n",
       "      <th></th>\n",
       "    </tr>\n",
       "  </thead>\n",
       "  <tbody>\n",
       "    <tr>\n",
       "      <th rowspan=\"5\" valign=\"top\">bra</th>\n",
       "      <th rowspan=\"5\" valign=\"top\">android</th>\n",
       "      <th rowspan=\"5\" valign=\"top\">female</th>\n",
       "      <th>15</th>\n",
       "      <td>38.714286</td>\n",
       "    </tr>\n",
       "    <tr>\n",
       "      <th>16</th>\n",
       "      <td>35.944444</td>\n",
       "    </tr>\n",
       "    <tr>\n",
       "      <th>17</th>\n",
       "      <td>35.666667</td>\n",
       "    </tr>\n",
       "    <tr>\n",
       "      <th>18</th>\n",
       "      <td>32.255814</td>\n",
       "    </tr>\n",
       "    <tr>\n",
       "      <th>19</th>\n",
       "      <td>35.206897</td>\n",
       "    </tr>\n",
       "    <tr>\n",
       "      <th>...</th>\n",
       "      <th>...</th>\n",
       "      <th>...</th>\n",
       "      <th>...</th>\n",
       "      <td>...</td>\n",
       "    </tr>\n",
       "    <tr>\n",
       "      <th rowspan=\"5\" valign=\"top\">usa</th>\n",
       "      <th rowspan=\"5\" valign=\"top\">ios</th>\n",
       "      <th rowspan=\"5\" valign=\"top\">male</th>\n",
       "      <th>42</th>\n",
       "      <td>30.250000</td>\n",
       "    </tr>\n",
       "    <tr>\n",
       "      <th>50</th>\n",
       "      <td>39.000000</td>\n",
       "    </tr>\n",
       "    <tr>\n",
       "      <th>53</th>\n",
       "      <td>34.000000</td>\n",
       "    </tr>\n",
       "    <tr>\n",
       "      <th>55</th>\n",
       "      <td>29.000000</td>\n",
       "    </tr>\n",
       "    <tr>\n",
       "      <th>59</th>\n",
       "      <td>46.500000</td>\n",
       "    </tr>\n",
       "  </tbody>\n",
       "</table>\n",
       "<p>348 rows × 1 columns</p>\n",
       "</div>"
      ],
      "text/plain": [
       "                                PRICE\n",
       "COUNTRY SOURCE  SEX    AGE           \n",
       "bra     android female 15   38.714286\n",
       "                       16   35.944444\n",
       "                       17   35.666667\n",
       "                       18   32.255814\n",
       "                       19   35.206897\n",
       "...                               ...\n",
       "usa     ios     male   42   30.250000\n",
       "                       50   39.000000\n",
       "                       53   34.000000\n",
       "                       55   29.000000\n",
       "                       59   46.500000\n",
       "\n",
       "[348 rows x 1 columns]"
      ]
     },
     "execution_count": 146,
     "metadata": {},
     "output_type": "execute_result"
    }
   ],
   "source": [
    "df.groupby(['COUNTRY','SOURCE','SEX','AGE']).agg({'PRICE':'mean'})"
   ]
  },
  {
   "cell_type": "markdown",
   "metadata": {},
   "source": [
    "## Görev 3: Çıktıyı PRICE’a göre sıralayınız."
   ]
  },
  {
   "cell_type": "code",
   "execution_count": 147,
   "metadata": {},
   "outputs": [
    {
     "data": {
      "text/html": [
       "<div>\n",
       "<style scoped>\n",
       "    .dataframe tbody tr th:only-of-type {\n",
       "        vertical-align: middle;\n",
       "    }\n",
       "\n",
       "    .dataframe tbody tr th {\n",
       "        vertical-align: top;\n",
       "    }\n",
       "\n",
       "    .dataframe thead th {\n",
       "        text-align: right;\n",
       "    }\n",
       "</style>\n",
       "<table border=\"1\" class=\"dataframe\">\n",
       "  <thead>\n",
       "    <tr style=\"text-align: right;\">\n",
       "      <th></th>\n",
       "      <th></th>\n",
       "      <th></th>\n",
       "      <th></th>\n",
       "      <th>PRICE</th>\n",
       "    </tr>\n",
       "    <tr>\n",
       "      <th>COUNTRY</th>\n",
       "      <th>SOURCE</th>\n",
       "      <th>SEX</th>\n",
       "      <th>AGE</th>\n",
       "      <th></th>\n",
       "    </tr>\n",
       "  </thead>\n",
       "  <tbody>\n",
       "    <tr>\n",
       "      <th>bra</th>\n",
       "      <th>android</th>\n",
       "      <th>male</th>\n",
       "      <th>46</th>\n",
       "      <td>59.0</td>\n",
       "    </tr>\n",
       "    <tr>\n",
       "      <th>usa</th>\n",
       "      <th>android</th>\n",
       "      <th>male</th>\n",
       "      <th>36</th>\n",
       "      <td>59.0</td>\n",
       "    </tr>\n",
       "    <tr>\n",
       "      <th>fra</th>\n",
       "      <th>android</th>\n",
       "      <th>female</th>\n",
       "      <th>24</th>\n",
       "      <td>59.0</td>\n",
       "    </tr>\n",
       "    <tr>\n",
       "      <th>usa</th>\n",
       "      <th>ios</th>\n",
       "      <th>male</th>\n",
       "      <th>32</th>\n",
       "      <td>54.0</td>\n",
       "    </tr>\n",
       "    <tr>\n",
       "      <th>deu</th>\n",
       "      <th>android</th>\n",
       "      <th>female</th>\n",
       "      <th>36</th>\n",
       "      <td>49.0</td>\n",
       "    </tr>\n",
       "    <tr>\n",
       "      <th>...</th>\n",
       "      <th>...</th>\n",
       "      <th>...</th>\n",
       "      <th>...</th>\n",
       "      <td>...</td>\n",
       "    </tr>\n",
       "    <tr>\n",
       "      <th rowspan=\"2\" valign=\"top\">usa</th>\n",
       "      <th rowspan=\"2\" valign=\"top\">ios</th>\n",
       "      <th rowspan=\"2\" valign=\"top\">female</th>\n",
       "      <th>38</th>\n",
       "      <td>19.0</td>\n",
       "    </tr>\n",
       "    <tr>\n",
       "      <th>30</th>\n",
       "      <td>19.0</td>\n",
       "    </tr>\n",
       "    <tr>\n",
       "      <th>can</th>\n",
       "      <th>android</th>\n",
       "      <th>female</th>\n",
       "      <th>27</th>\n",
       "      <td>19.0</td>\n",
       "    </tr>\n",
       "    <tr>\n",
       "      <th>fra</th>\n",
       "      <th>android</th>\n",
       "      <th>male</th>\n",
       "      <th>18</th>\n",
       "      <td>19.0</td>\n",
       "    </tr>\n",
       "    <tr>\n",
       "      <th>deu</th>\n",
       "      <th>android</th>\n",
       "      <th>male</th>\n",
       "      <th>26</th>\n",
       "      <td>9.0</td>\n",
       "    </tr>\n",
       "  </tbody>\n",
       "</table>\n",
       "<p>348 rows × 1 columns</p>\n",
       "</div>"
      ],
      "text/plain": [
       "                            PRICE\n",
       "COUNTRY SOURCE  SEX    AGE       \n",
       "bra     android male   46    59.0\n",
       "usa     android male   36    59.0\n",
       "fra     android female 24    59.0\n",
       "usa     ios     male   32    54.0\n",
       "deu     android female 36    49.0\n",
       "...                           ...\n",
       "usa     ios     female 38    19.0\n",
       "                       30    19.0\n",
       "can     android female 27    19.0\n",
       "fra     android male   18    19.0\n",
       "deu     android male   26     9.0\n",
       "\n",
       "[348 rows x 1 columns]"
      ]
     },
     "execution_count": 147,
     "metadata": {},
     "output_type": "execute_result"
    }
   ],
   "source": [
    "agg_df = df.groupby(['COUNTRY','SOURCE','SEX','AGE']).agg({'PRICE':'mean'}).sort_values('PRICE', ascending=False)\n",
    "agg_df"
   ]
  },
  {
   "cell_type": "markdown",
   "metadata": {},
   "source": [
    "## Görev 4: Indekste yer alan isimleri değişken ismine çeviriniz."
   ]
  },
  {
   "cell_type": "code",
   "execution_count": 148,
   "metadata": {},
   "outputs": [
    {
     "data": {
      "text/html": [
       "<div>\n",
       "<style scoped>\n",
       "    .dataframe tbody tr th:only-of-type {\n",
       "        vertical-align: middle;\n",
       "    }\n",
       "\n",
       "    .dataframe tbody tr th {\n",
       "        vertical-align: top;\n",
       "    }\n",
       "\n",
       "    .dataframe thead th {\n",
       "        text-align: right;\n",
       "    }\n",
       "</style>\n",
       "<table border=\"1\" class=\"dataframe\">\n",
       "  <thead>\n",
       "    <tr style=\"text-align: right;\">\n",
       "      <th></th>\n",
       "      <th>COUNTRY</th>\n",
       "      <th>SOURCE</th>\n",
       "      <th>SEX</th>\n",
       "      <th>AGE</th>\n",
       "      <th>PRICE</th>\n",
       "    </tr>\n",
       "  </thead>\n",
       "  <tbody>\n",
       "    <tr>\n",
       "      <th>0</th>\n",
       "      <td>bra</td>\n",
       "      <td>android</td>\n",
       "      <td>male</td>\n",
       "      <td>46</td>\n",
       "      <td>59.0</td>\n",
       "    </tr>\n",
       "    <tr>\n",
       "      <th>1</th>\n",
       "      <td>usa</td>\n",
       "      <td>android</td>\n",
       "      <td>male</td>\n",
       "      <td>36</td>\n",
       "      <td>59.0</td>\n",
       "    </tr>\n",
       "    <tr>\n",
       "      <th>2</th>\n",
       "      <td>fra</td>\n",
       "      <td>android</td>\n",
       "      <td>female</td>\n",
       "      <td>24</td>\n",
       "      <td>59.0</td>\n",
       "    </tr>\n",
       "    <tr>\n",
       "      <th>3</th>\n",
       "      <td>usa</td>\n",
       "      <td>ios</td>\n",
       "      <td>male</td>\n",
       "      <td>32</td>\n",
       "      <td>54.0</td>\n",
       "    </tr>\n",
       "    <tr>\n",
       "      <th>4</th>\n",
       "      <td>deu</td>\n",
       "      <td>android</td>\n",
       "      <td>female</td>\n",
       "      <td>36</td>\n",
       "      <td>49.0</td>\n",
       "    </tr>\n",
       "    <tr>\n",
       "      <th>...</th>\n",
       "      <td>...</td>\n",
       "      <td>...</td>\n",
       "      <td>...</td>\n",
       "      <td>...</td>\n",
       "      <td>...</td>\n",
       "    </tr>\n",
       "    <tr>\n",
       "      <th>343</th>\n",
       "      <td>usa</td>\n",
       "      <td>ios</td>\n",
       "      <td>female</td>\n",
       "      <td>38</td>\n",
       "      <td>19.0</td>\n",
       "    </tr>\n",
       "    <tr>\n",
       "      <th>344</th>\n",
       "      <td>usa</td>\n",
       "      <td>ios</td>\n",
       "      <td>female</td>\n",
       "      <td>30</td>\n",
       "      <td>19.0</td>\n",
       "    </tr>\n",
       "    <tr>\n",
       "      <th>345</th>\n",
       "      <td>can</td>\n",
       "      <td>android</td>\n",
       "      <td>female</td>\n",
       "      <td>27</td>\n",
       "      <td>19.0</td>\n",
       "    </tr>\n",
       "    <tr>\n",
       "      <th>346</th>\n",
       "      <td>fra</td>\n",
       "      <td>android</td>\n",
       "      <td>male</td>\n",
       "      <td>18</td>\n",
       "      <td>19.0</td>\n",
       "    </tr>\n",
       "    <tr>\n",
       "      <th>347</th>\n",
       "      <td>deu</td>\n",
       "      <td>android</td>\n",
       "      <td>male</td>\n",
       "      <td>26</td>\n",
       "      <td>9.0</td>\n",
       "    </tr>\n",
       "  </tbody>\n",
       "</table>\n",
       "<p>348 rows × 5 columns</p>\n",
       "</div>"
      ],
      "text/plain": [
       "    COUNTRY   SOURCE     SEX  AGE  PRICE\n",
       "0       bra  android    male   46   59.0\n",
       "1       usa  android    male   36   59.0\n",
       "2       fra  android  female   24   59.0\n",
       "3       usa      ios    male   32   54.0\n",
       "4       deu  android  female   36   49.0\n",
       "..      ...      ...     ...  ...    ...\n",
       "343     usa      ios  female   38   19.0\n",
       "344     usa      ios  female   30   19.0\n",
       "345     can  android  female   27   19.0\n",
       "346     fra  android    male   18   19.0\n",
       "347     deu  android    male   26    9.0\n",
       "\n",
       "[348 rows x 5 columns]"
      ]
     },
     "execution_count": 148,
     "metadata": {},
     "output_type": "execute_result"
    }
   ],
   "source": [
    "agg_df.reset_index(inplace=True)\n",
    "agg_df"
   ]
  },
  {
   "cell_type": "markdown",
   "metadata": {},
   "source": [
    "## Görev 5: Age değişkenini kategorik değişkene çeviriniz ve agg_df’e ekleyiniz.\n",
    "• Age sayısal değişkenini kategorik değişkene çeviriniz.\n",
    "\n",
    "• Aralıkları ikna edici şekilde oluşturunuz.\n",
    "\n",
    "• Örneğin: ‘0_18', ‘19_23', '24_30', '31_40', '41_70'"
   ]
  },
  {
   "cell_type": "code",
   "execution_count": 149,
   "metadata": {},
   "outputs": [
    {
     "data": {
      "text/html": [
       "<div>\n",
       "<style scoped>\n",
       "    .dataframe tbody tr th:only-of-type {\n",
       "        vertical-align: middle;\n",
       "    }\n",
       "\n",
       "    .dataframe tbody tr th {\n",
       "        vertical-align: top;\n",
       "    }\n",
       "\n",
       "    .dataframe thead th {\n",
       "        text-align: right;\n",
       "    }\n",
       "</style>\n",
       "<table border=\"1\" class=\"dataframe\">\n",
       "  <thead>\n",
       "    <tr style=\"text-align: right;\">\n",
       "      <th></th>\n",
       "      <th>COUNTRY</th>\n",
       "      <th>SOURCE</th>\n",
       "      <th>SEX</th>\n",
       "      <th>AGE</th>\n",
       "      <th>PRICE</th>\n",
       "      <th>AGE_CAT</th>\n",
       "    </tr>\n",
       "  </thead>\n",
       "  <tbody>\n",
       "    <tr>\n",
       "      <th>0</th>\n",
       "      <td>bra</td>\n",
       "      <td>android</td>\n",
       "      <td>male</td>\n",
       "      <td>46</td>\n",
       "      <td>59.0</td>\n",
       "      <td>41_70</td>\n",
       "    </tr>\n",
       "    <tr>\n",
       "      <th>1</th>\n",
       "      <td>usa</td>\n",
       "      <td>android</td>\n",
       "      <td>male</td>\n",
       "      <td>36</td>\n",
       "      <td>59.0</td>\n",
       "      <td>31_40</td>\n",
       "    </tr>\n",
       "    <tr>\n",
       "      <th>2</th>\n",
       "      <td>fra</td>\n",
       "      <td>android</td>\n",
       "      <td>female</td>\n",
       "      <td>24</td>\n",
       "      <td>59.0</td>\n",
       "      <td>24_30</td>\n",
       "    </tr>\n",
       "    <tr>\n",
       "      <th>3</th>\n",
       "      <td>usa</td>\n",
       "      <td>ios</td>\n",
       "      <td>male</td>\n",
       "      <td>32</td>\n",
       "      <td>54.0</td>\n",
       "      <td>31_40</td>\n",
       "    </tr>\n",
       "    <tr>\n",
       "      <th>4</th>\n",
       "      <td>deu</td>\n",
       "      <td>android</td>\n",
       "      <td>female</td>\n",
       "      <td>36</td>\n",
       "      <td>49.0</td>\n",
       "      <td>31_40</td>\n",
       "    </tr>\n",
       "  </tbody>\n",
       "</table>\n",
       "</div>"
      ],
      "text/plain": [
       "  COUNTRY   SOURCE     SEX  AGE  PRICE AGE_CAT\n",
       "0     bra  android    male   46   59.0   41_70\n",
       "1     usa  android    male   36   59.0   31_40\n",
       "2     fra  android  female   24   59.0   24_30\n",
       "3     usa      ios    male   32   54.0   31_40\n",
       "4     deu  android  female   36   49.0   31_40"
      ]
     },
     "execution_count": 149,
     "metadata": {},
     "output_type": "execute_result"
    }
   ],
   "source": [
    "agg_df['AGE_CAT'] = pd.cut(agg_df['AGE'], [0,18,23,30,40,70], labels=['0_18','19_23','24_30','31_40','41_70'])\n",
    "agg_df.head()"
   ]
  },
  {
   "cell_type": "markdown",
   "metadata": {},
   "source": [
    "## Görev 6: Yeni seviye tabanlı müşterileri (persona) tanımlayınız.\n",
    "\n",
    "• Yeni seviye tabanlı müşterileri (persona) tanımlayınız ve veri setine değişken olarak ekleyiniz.\n",
    "\n",
    "• Yeni eklenecek değişkenin adı: customers_level_based\n",
    "\n",
    "• Önceki soruda elde edeceğiniz çıktıdaki gözlemleri bir araya getirerek customers_level_based değişkenini oluşturmanız gerekmektedir.\n"
   ]
  },
  {
   "cell_type": "code",
   "execution_count": 150,
   "metadata": {},
   "outputs": [
    {
     "data": {
      "text/html": [
       "<div>\n",
       "<style scoped>\n",
       "    .dataframe tbody tr th:only-of-type {\n",
       "        vertical-align: middle;\n",
       "    }\n",
       "\n",
       "    .dataframe tbody tr th {\n",
       "        vertical-align: top;\n",
       "    }\n",
       "\n",
       "    .dataframe thead th {\n",
       "        text-align: right;\n",
       "    }\n",
       "</style>\n",
       "<table border=\"1\" class=\"dataframe\">\n",
       "  <thead>\n",
       "    <tr style=\"text-align: right;\">\n",
       "      <th></th>\n",
       "      <th>COUNTRY</th>\n",
       "      <th>SOURCE</th>\n",
       "      <th>SEX</th>\n",
       "      <th>AGE</th>\n",
       "      <th>PRICE</th>\n",
       "      <th>AGE_CAT</th>\n",
       "    </tr>\n",
       "  </thead>\n",
       "  <tbody>\n",
       "    <tr>\n",
       "      <th>0</th>\n",
       "      <td>bra</td>\n",
       "      <td>android</td>\n",
       "      <td>male</td>\n",
       "      <td>46</td>\n",
       "      <td>59.0</td>\n",
       "      <td>41_70</td>\n",
       "    </tr>\n",
       "    <tr>\n",
       "      <th>1</th>\n",
       "      <td>usa</td>\n",
       "      <td>android</td>\n",
       "      <td>male</td>\n",
       "      <td>36</td>\n",
       "      <td>59.0</td>\n",
       "      <td>31_40</td>\n",
       "    </tr>\n",
       "    <tr>\n",
       "      <th>2</th>\n",
       "      <td>fra</td>\n",
       "      <td>android</td>\n",
       "      <td>female</td>\n",
       "      <td>24</td>\n",
       "      <td>59.0</td>\n",
       "      <td>24_30</td>\n",
       "    </tr>\n",
       "    <tr>\n",
       "      <th>3</th>\n",
       "      <td>usa</td>\n",
       "      <td>ios</td>\n",
       "      <td>male</td>\n",
       "      <td>32</td>\n",
       "      <td>54.0</td>\n",
       "      <td>31_40</td>\n",
       "    </tr>\n",
       "    <tr>\n",
       "      <th>4</th>\n",
       "      <td>deu</td>\n",
       "      <td>android</td>\n",
       "      <td>female</td>\n",
       "      <td>36</td>\n",
       "      <td>49.0</td>\n",
       "      <td>31_40</td>\n",
       "    </tr>\n",
       "  </tbody>\n",
       "</table>\n",
       "</div>"
      ],
      "text/plain": [
       "  COUNTRY   SOURCE     SEX  AGE  PRICE AGE_CAT\n",
       "0     bra  android    male   46   59.0   41_70\n",
       "1     usa  android    male   36   59.0   31_40\n",
       "2     fra  android  female   24   59.0   24_30\n",
       "3     usa      ios    male   32   54.0   31_40\n",
       "4     deu  android  female   36   49.0   31_40"
      ]
     },
     "execution_count": 150,
     "metadata": {},
     "output_type": "execute_result"
    }
   ],
   "source": [
    "agg_df.head()"
   ]
  },
  {
   "cell_type": "code",
   "execution_count": 151,
   "metadata": {},
   "outputs": [],
   "source": [
    "cols= ['COUNTRY', 'SOURCE', 'SEX', 'AGE_CAT']"
   ]
  },
  {
   "cell_type": "code",
   "execution_count": 152,
   "metadata": {},
   "outputs": [],
   "source": [
    "agg_df['customer_level_based'] = ['_'.join(i).upper() for i in agg_df[cols].values]\n",
    "\n",
    "#ya da;\n",
    "# agg_df[cols].apply(lambda x : '_'.join(x).upper(), axis=1)"
   ]
  },
  {
   "cell_type": "code",
   "execution_count": 153,
   "metadata": {},
   "outputs": [],
   "source": [
    "agg_df = agg_df[['customer_level_based','PRICE']]"
   ]
  },
  {
   "cell_type": "code",
   "execution_count": 154,
   "metadata": {},
   "outputs": [
    {
     "data": {
      "text/html": [
       "<div>\n",
       "<style scoped>\n",
       "    .dataframe tbody tr th:only-of-type {\n",
       "        vertical-align: middle;\n",
       "    }\n",
       "\n",
       "    .dataframe tbody tr th {\n",
       "        vertical-align: top;\n",
       "    }\n",
       "\n",
       "    .dataframe thead th {\n",
       "        text-align: right;\n",
       "    }\n",
       "</style>\n",
       "<table border=\"1\" class=\"dataframe\">\n",
       "  <thead>\n",
       "    <tr style=\"text-align: right;\">\n",
       "      <th></th>\n",
       "      <th>customer_level_based</th>\n",
       "      <th>PRICE</th>\n",
       "    </tr>\n",
       "  </thead>\n",
       "  <tbody>\n",
       "    <tr>\n",
       "      <th>0</th>\n",
       "      <td>BRA_ANDROID_FEMALE_0_18</td>\n",
       "      <td>35.645303</td>\n",
       "    </tr>\n",
       "    <tr>\n",
       "      <th>1</th>\n",
       "      <td>BRA_ANDROID_FEMALE_19_23</td>\n",
       "      <td>34.077340</td>\n",
       "    </tr>\n",
       "    <tr>\n",
       "      <th>2</th>\n",
       "      <td>BRA_ANDROID_FEMALE_24_30</td>\n",
       "      <td>33.863946</td>\n",
       "    </tr>\n",
       "    <tr>\n",
       "      <th>3</th>\n",
       "      <td>BRA_ANDROID_FEMALE_31_40</td>\n",
       "      <td>34.898326</td>\n",
       "    </tr>\n",
       "    <tr>\n",
       "      <th>4</th>\n",
       "      <td>BRA_ANDROID_FEMALE_41_70</td>\n",
       "      <td>36.737179</td>\n",
       "    </tr>\n",
       "    <tr>\n",
       "      <th>...</th>\n",
       "      <td>...</td>\n",
       "      <td>...</td>\n",
       "    </tr>\n",
       "    <tr>\n",
       "      <th>104</th>\n",
       "      <td>USA_IOS_MALE_0_18</td>\n",
       "      <td>33.983495</td>\n",
       "    </tr>\n",
       "    <tr>\n",
       "      <th>105</th>\n",
       "      <td>USA_IOS_MALE_19_23</td>\n",
       "      <td>34.901872</td>\n",
       "    </tr>\n",
       "    <tr>\n",
       "      <th>106</th>\n",
       "      <td>USA_IOS_MALE_24_30</td>\n",
       "      <td>34.838143</td>\n",
       "    </tr>\n",
       "    <tr>\n",
       "      <th>107</th>\n",
       "      <td>USA_IOS_MALE_31_40</td>\n",
       "      <td>36.206324</td>\n",
       "    </tr>\n",
       "    <tr>\n",
       "      <th>108</th>\n",
       "      <td>USA_IOS_MALE_41_70</td>\n",
       "      <td>35.750000</td>\n",
       "    </tr>\n",
       "  </tbody>\n",
       "</table>\n",
       "<p>109 rows × 2 columns</p>\n",
       "</div>"
      ],
      "text/plain": [
       "         customer_level_based      PRICE\n",
       "0     BRA_ANDROID_FEMALE_0_18  35.645303\n",
       "1    BRA_ANDROID_FEMALE_19_23  34.077340\n",
       "2    BRA_ANDROID_FEMALE_24_30  33.863946\n",
       "3    BRA_ANDROID_FEMALE_31_40  34.898326\n",
       "4    BRA_ANDROID_FEMALE_41_70  36.737179\n",
       "..                        ...        ...\n",
       "104         USA_IOS_MALE_0_18  33.983495\n",
       "105        USA_IOS_MALE_19_23  34.901872\n",
       "106        USA_IOS_MALE_24_30  34.838143\n",
       "107        USA_IOS_MALE_31_40  36.206324\n",
       "108        USA_IOS_MALE_41_70  35.750000\n",
       "\n",
       "[109 rows x 2 columns]"
      ]
     },
     "execution_count": 154,
     "metadata": {},
     "output_type": "execute_result"
    }
   ],
   "source": [
    "agg_df = agg_df.groupby('customer_level_based').mean()\n",
    "agg_df.reset_index(inplace=True)\n",
    "agg_df"
   ]
  },
  {
   "cell_type": "markdown",
   "metadata": {},
   "source": [
    "## Görev 7: Yeni müşterileri (personaları) segmentlere ayırınız.\n",
    "\n",
    "• Yeni müşterileri (Örnek: USA_ANDROID_MALE_0_18) PRICE’a göre 4 segmente ayırınız.\n",
    "\n",
    "• Segmentleri SEGMENT isimlendirmesi ile değişken olarak agg_df’e ekleyiniz.\n",
    "\n",
    "• Segmentleri betimleyiniz (Segmentlere göre group by yapıp price mean, max, sum’larını alınız).\n"
   ]
  },
  {
   "cell_type": "code",
   "execution_count": 155,
   "metadata": {},
   "outputs": [],
   "source": [
    "agg_df['SEGMENT'] = pd.qcut(agg_df['PRICE'], 4, labels=['D','C','B','A'])"
   ]
  },
  {
   "cell_type": "code",
   "execution_count": 156,
   "metadata": {},
   "outputs": [
    {
     "data": {
      "text/html": [
       "<div>\n",
       "<style scoped>\n",
       "    .dataframe tbody tr th:only-of-type {\n",
       "        vertical-align: middle;\n",
       "    }\n",
       "\n",
       "    .dataframe tbody tr th {\n",
       "        vertical-align: top;\n",
       "    }\n",
       "\n",
       "    .dataframe thead th {\n",
       "        text-align: right;\n",
       "    }\n",
       "</style>\n",
       "<table border=\"1\" class=\"dataframe\">\n",
       "  <thead>\n",
       "    <tr style=\"text-align: right;\">\n",
       "      <th></th>\n",
       "      <th>customer_level_based</th>\n",
       "      <th>PRICE</th>\n",
       "      <th>SEGMENT</th>\n",
       "    </tr>\n",
       "  </thead>\n",
       "  <tbody>\n",
       "    <tr>\n",
       "      <th>0</th>\n",
       "      <td>BRA_ANDROID_FEMALE_0_18</td>\n",
       "      <td>35.645303</td>\n",
       "      <td>B</td>\n",
       "    </tr>\n",
       "    <tr>\n",
       "      <th>1</th>\n",
       "      <td>BRA_ANDROID_FEMALE_19_23</td>\n",
       "      <td>34.077340</td>\n",
       "      <td>C</td>\n",
       "    </tr>\n",
       "    <tr>\n",
       "      <th>2</th>\n",
       "      <td>BRA_ANDROID_FEMALE_24_30</td>\n",
       "      <td>33.863946</td>\n",
       "      <td>C</td>\n",
       "    </tr>\n",
       "    <tr>\n",
       "      <th>3</th>\n",
       "      <td>BRA_ANDROID_FEMALE_31_40</td>\n",
       "      <td>34.898326</td>\n",
       "      <td>B</td>\n",
       "    </tr>\n",
       "    <tr>\n",
       "      <th>4</th>\n",
       "      <td>BRA_ANDROID_FEMALE_41_70</td>\n",
       "      <td>36.737179</td>\n",
       "      <td>A</td>\n",
       "    </tr>\n",
       "    <tr>\n",
       "      <th>...</th>\n",
       "      <td>...</td>\n",
       "      <td>...</td>\n",
       "      <td>...</td>\n",
       "    </tr>\n",
       "    <tr>\n",
       "      <th>104</th>\n",
       "      <td>USA_IOS_MALE_0_18</td>\n",
       "      <td>33.983495</td>\n",
       "      <td>C</td>\n",
       "    </tr>\n",
       "    <tr>\n",
       "      <th>105</th>\n",
       "      <td>USA_IOS_MALE_19_23</td>\n",
       "      <td>34.901872</td>\n",
       "      <td>B</td>\n",
       "    </tr>\n",
       "    <tr>\n",
       "      <th>106</th>\n",
       "      <td>USA_IOS_MALE_24_30</td>\n",
       "      <td>34.838143</td>\n",
       "      <td>B</td>\n",
       "    </tr>\n",
       "    <tr>\n",
       "      <th>107</th>\n",
       "      <td>USA_IOS_MALE_31_40</td>\n",
       "      <td>36.206324</td>\n",
       "      <td>A</td>\n",
       "    </tr>\n",
       "    <tr>\n",
       "      <th>108</th>\n",
       "      <td>USA_IOS_MALE_41_70</td>\n",
       "      <td>35.750000</td>\n",
       "      <td>B</td>\n",
       "    </tr>\n",
       "  </tbody>\n",
       "</table>\n",
       "<p>109 rows × 3 columns</p>\n",
       "</div>"
      ],
      "text/plain": [
       "         customer_level_based      PRICE SEGMENT\n",
       "0     BRA_ANDROID_FEMALE_0_18  35.645303       B\n",
       "1    BRA_ANDROID_FEMALE_19_23  34.077340       C\n",
       "2    BRA_ANDROID_FEMALE_24_30  33.863946       C\n",
       "3    BRA_ANDROID_FEMALE_31_40  34.898326       B\n",
       "4    BRA_ANDROID_FEMALE_41_70  36.737179       A\n",
       "..                        ...        ...     ...\n",
       "104         USA_IOS_MALE_0_18  33.983495       C\n",
       "105        USA_IOS_MALE_19_23  34.901872       B\n",
       "106        USA_IOS_MALE_24_30  34.838143       B\n",
       "107        USA_IOS_MALE_31_40  36.206324       A\n",
       "108        USA_IOS_MALE_41_70  35.750000       B\n",
       "\n",
       "[109 rows x 3 columns]"
      ]
     },
     "execution_count": 156,
     "metadata": {},
     "output_type": "execute_result"
    }
   ],
   "source": [
    "agg_df"
   ]
  },
  {
   "cell_type": "markdown",
   "metadata": {},
   "source": [
    "## Görev 8: Yeni gelen müşterileri sınıflandırıp, ne kadar gelir getirebileceklerini tahmin ediniz."
   ]
  },
  {
   "cell_type": "markdown",
   "metadata": {},
   "source": [
    "• 33 yaşında ANDROID kullanan bir Türk kadını hangi segmente aittir ve ortalama ne kadar gelir kazandırması beklenir?\n",
    "\n",
    "• 35 yaşında IOS kullanan bir Fransız kadını hangi segmente aittir ve ortalama ne kadar gelir kazandırması beklenir?"
   ]
  },
  {
   "cell_type": "code",
   "execution_count": 157,
   "metadata": {},
   "outputs": [],
   "source": [
    "new_user = 'TUR_ANDROID_FEMALE_31_40'"
   ]
  },
  {
   "cell_type": "code",
   "execution_count": 158,
   "metadata": {},
   "outputs": [
    {
     "data": {
      "text/html": [
       "<div>\n",
       "<style scoped>\n",
       "    .dataframe tbody tr th:only-of-type {\n",
       "        vertical-align: middle;\n",
       "    }\n",
       "\n",
       "    .dataframe tbody tr th {\n",
       "        vertical-align: top;\n",
       "    }\n",
       "\n",
       "    .dataframe thead th {\n",
       "        text-align: right;\n",
       "    }\n",
       "</style>\n",
       "<table border=\"1\" class=\"dataframe\">\n",
       "  <thead>\n",
       "    <tr style=\"text-align: right;\">\n",
       "      <th></th>\n",
       "      <th>customer_level_based</th>\n",
       "      <th>PRICE</th>\n",
       "      <th>SEGMENT</th>\n",
       "    </tr>\n",
       "  </thead>\n",
       "  <tbody>\n",
       "    <tr>\n",
       "      <th>72</th>\n",
       "      <td>TUR_ANDROID_FEMALE_31_40</td>\n",
       "      <td>41.833333</td>\n",
       "      <td>A</td>\n",
       "    </tr>\n",
       "  </tbody>\n",
       "</table>\n",
       "</div>"
      ],
      "text/plain": [
       "        customer_level_based      PRICE SEGMENT\n",
       "72  TUR_ANDROID_FEMALE_31_40  41.833333       A"
      ]
     },
     "execution_count": 158,
     "metadata": {},
     "output_type": "execute_result"
    }
   ],
   "source": [
    "agg_df[agg_df['customer_level_based']==new_user]"
   ]
  },
  {
   "cell_type": "code",
   "execution_count": 159,
   "metadata": {},
   "outputs": [],
   "source": [
    "new_user2 = 'FRA_IOS_MALE_31_40'"
   ]
  },
  {
   "cell_type": "code",
   "execution_count": 160,
   "metadata": {},
   "outputs": [
    {
     "data": {
      "text/html": [
       "<div>\n",
       "<style scoped>\n",
       "    .dataframe tbody tr th:only-of-type {\n",
       "        vertical-align: middle;\n",
       "    }\n",
       "\n",
       "    .dataframe tbody tr th {\n",
       "        vertical-align: top;\n",
       "    }\n",
       "\n",
       "    .dataframe thead th {\n",
       "        text-align: right;\n",
       "    }\n",
       "</style>\n",
       "<table border=\"1\" class=\"dataframe\">\n",
       "  <thead>\n",
       "    <tr style=\"text-align: right;\">\n",
       "      <th></th>\n",
       "      <th>customer_level_based</th>\n",
       "      <th>PRICE</th>\n",
       "      <th>SEGMENT</th>\n",
       "    </tr>\n",
       "  </thead>\n",
       "  <tbody>\n",
       "    <tr>\n",
       "      <th>67</th>\n",
       "      <td>FRA_IOS_MALE_31_40</td>\n",
       "      <td>33.6875</td>\n",
       "      <td>C</td>\n",
       "    </tr>\n",
       "  </tbody>\n",
       "</table>\n",
       "</div>"
      ],
      "text/plain": [
       "   customer_level_based    PRICE SEGMENT\n",
       "67   FRA_IOS_MALE_31_40  33.6875       C"
      ]
     },
     "execution_count": 160,
     "metadata": {},
     "output_type": "execute_result"
    }
   ],
   "source": [
    "agg_df[agg_df['customer_level_based']==new_user2]"
   ]
  }
 ],
 "metadata": {
  "kernelspec": {
   "display_name": "Python 3.9.12 ('genc_env')",
   "language": "python",
   "name": "python3"
  },
  "language_info": {
   "codemirror_mode": {
    "name": "ipython",
    "version": 3
   },
   "file_extension": ".py",
   "mimetype": "text/x-python",
   "name": "python",
   "nbconvert_exporter": "python",
   "pygments_lexer": "ipython3",
   "version": "3.9.12"
  },
  "orig_nbformat": 4,
  "vscode": {
   "interpreter": {
    "hash": "e3959f86467369a69e2ca2d0e55f82e2aeae31d60f101d47d0664eee6a259f95"
   }
  }
 },
 "nbformat": 4,
 "nbformat_minor": 2
}
